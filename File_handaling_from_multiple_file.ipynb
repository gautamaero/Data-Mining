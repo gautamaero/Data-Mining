{
  "nbformat": 4,
  "nbformat_minor": 0,
  "metadata": {
    "colab": {
      "provenance": [],
      "authorship_tag": "ABX9TyNK38/JxuPe9Ams8210nn+z",
      "include_colab_link": true
    },
    "kernelspec": {
      "name": "python3",
      "display_name": "Python 3"
    },
    "language_info": {
      "name": "python"
    }
  },
  "cells": [
    {
      "cell_type": "markdown",
      "metadata": {
        "id": "view-in-github",
        "colab_type": "text"
      },
      "source": [
        "<a href=\"https://colab.research.google.com/github/gautamaero/Data-Mining/blob/main/File_handaling_from_multiple_file.ipynb\" target=\"_parent\"><img src=\"https://colab.research.google.com/assets/colab-badge.svg\" alt=\"Open In Colab\"/></a>"
      ]
    },
    {
      "cell_type": "code",
      "execution_count": 3,
      "metadata": {
        "id": "aDKy947xpeu4"
      },
      "outputs": [],
      "source": [
        "import pandas as pd\n",
        "import numpy as np\n",
        "import os"
      ]
    },
    {
      "cell_type": "code",
      "source": [
        "os.listdir()"
      ],
      "metadata": {
        "colab": {
          "base_uri": "https://localhost:8080/"
        },
        "id": "kinH7K42qObr",
        "outputId": "471a380b-d6a8-45d3-f822-41c843893fec"
      },
      "execution_count": 9,
      "outputs": [
        {
          "output_type": "execute_result",
          "data": {
            "text/plain": [
              "['.config',\n",
              " 'zho_Hant.devtest',\n",
              " 'zho_Hans.devtest',\n",
              " 'hin_Deva.devtest',\n",
              " 'sample_data']"
            ]
          },
          "metadata": {},
          "execution_count": 9
        }
      ]
    },
    {
      "cell_type": "code",
      "source": [
        "import random\n",
        "import os\n",
        "# Open the file in read mode\n",
        "hindi_file = open(os.listdir()[3], \"r\")\n",
        "\n",
        "# Specify the number of lines to select\n",
        "num_lines = 5\n",
        "\n",
        "# Read all lines from the file\n",
        "hindi_lines = hindi_file.readlines()\n",
        "\n",
        "# Randomly select and print the specified number of lines\n",
        "selected_lines = random.sample(hindi_lines, num_lines)\n",
        "for line in selected_lines:\n",
        "    print(line.strip())\n",
        "\n",
        "# Close the file\n",
        "hindi_file.close()"
      ],
      "metadata": {
        "colab": {
          "base_uri": "https://localhost:8080/"
        },
        "id": "EZ6YDaUk0nmz",
        "outputId": "7995fbf6-1244-4f68-a58d-09f5b629711a"
      },
      "execution_count": 34,
      "outputs": [
        {
          "output_type": "stream",
          "name": "stdout",
          "text": [
            "राष्ट्रीय तूफ़ान केंद्र (एनएचसी) का कहना है कि इस समय जैरी का ज़मीन को कोई खतरा नहीं है।\n",
            "जिस सड़क पर दुर्घटना हुई उसे कुछ समय के लिए बंद कर दिया गया था, जबकि आपाताकालीन सेवाओं ने ड्राइवर को लाल रंग की Audi TT से निकाल दिया था.\n",
            "रॉबिन उथप्पा ने केवल 41 गेंदों में 11 चौकों और 2 छक्कों की मदद से 70 रन बना कर पारी का सर्वोच्च स्कोर बनाया.\n",
            "उच्च मध्य युग आरंभिक मध्य युग से पहले हुआ था और उसके बाद आधुनिक मध्य युग आया जिसका समापन 1500 के आसपास माना जाता है।\n",
            "चीर धाराएँ समुद्र तट पर लगकर लौटने वाली लहरों का प्रवाह होता है, अक्सर एक चट्टान या इसी तरह के पदार्थों पर।\n"
          ]
        }
      ]
    },
    {
      "cell_type": "code",
      "source": [
        "file1 = open(os.listdir()[1], \"r\")\n",
        "file2 = open(os.listdir()[2], \"r\")\n",
        "file3 = open(os.listdir()[3], \"r\")\n",
        "\n",
        "# Specify the number of lines to select\n",
        "num_lines = 5\n",
        "\n",
        "# Read all lines from each file\n",
        "lines1 = file1.readlines()\n",
        "lines2 = file2.readlines()\n",
        "lines3 = file3.readlines()\n",
        "\n",
        "# Randomly select the specified number of lines from each file\n",
        "selected_lines = random.sample(lines1, num_lines) + random.sample(lines2, num_lines) + random.sample(lines3, num_lines)\n",
        "\n",
        "\n",
        "output_file1 = open(\"china1_out.txt\", \"w\")\n",
        "output_file2 = open(\"china2_out.txt\", \"w\")\n",
        "output_file3 = open(\"hindi_out.txt\",\"w\")\n",
        "\n",
        "# Print the selected lines from each file\n",
        "for line in selected_lines:\n",
        "  print(line.strip())\n",
        "\n",
        "tup = []\n",
        "\n",
        "with open('hin_Deva.devtest', 'r) as f1, open('zho_Hans.devtest', 'r') as f2, open('zho_Hant.devtest', 'r') as f3:\n",
        "    lines1 = f1.readlines()\n",
        "    lines2 = f2.readlines()\n",
        "    lines3 = f3.readlines()\n",
        "\n",
        "for l1, l2, l3 in zip(lines1, lines2, lines3):\n",
        "    tup.append((l1, l2, l3))\n",
        "random.shuffle(tup)\n",
        "# Close"
      ],
      "metadata": {
        "colab": {
          "base_uri": "https://localhost:8080/"
        },
        "id": "z2miBhJEwat3",
        "outputId": "959c40f5-f15b-406d-994d-eea204423def"
      },
      "execution_count": 37,
      "outputs": [
        {
          "output_type": "stream",
          "name": "stdout",
          "text": [
            "惡劣天氣可能發生在世界上任何地方，且有不同的類型，會取決於地理、地形和大氣條件。\n",
            "許多時候，參加國外的空檔年課程，這其實能提升你回國後接受高等教育的機會。\n",
            "他們被迫繳稅給美國殖民政權，支付大部分的政府開支，而債券利息則以菲律賓政府的名義透過華爾街銀行浮動。\n",
            "一個人內心的平靜程度，與一個人身心的緊張程度呈反比。\n",
            "多數對於科技決定論的詮釋都有兩個主要理念：科技本身的發展途徑遠比文化或政治因素有著更大之影響力，以及科技反過來會「影響」社會固有型態，而非受社會制約。\n",
            "汤加 (Tonga) 没有重大损失或人员伤亡报告，但电力暂时中断。据报道，停电让汤加当局无法收到太平洋海啸警报中心 (PTWC) 发出的海啸警报。\n",
            "pH 值以被测化学品中的氢（pH 中的 H）离子数量表示。\n",
            "铃声 (Ring) 公司还与竞争对手 ADT 安保公司在一起官司中达成了庭外和解。\n",
            "植物在自然环境中状态最好。因此要抵住诱惑，不去摘掉植物，哪怕“只是一株”。\n",
            "鉴于区间巴士经常客满，建议提前几天购票。\n",
            "सबसे पहले, अधिकांश सवार हील और एक चिकनी, काफी पतले तले वाले राइडिंग बूट्स पहनते हैं।\n",
            "2015 के आखिर में, TogiNet ने एक सहयोगी स्टेशन के रूप में AstroNet रेडियो की स्थापना की.\n",
            "ये पानी में जाने वाली किसी भी चीज़ पर भी हमला किया करते थे, यहाँ तक कि टी. रेक्स जैसे विशालकाय डायनासोर का भी कोई मुकाबला नहीं होगा.\n",
            "इसके शुरुआती दिनों में, इस शो को केवल लंबे समय तक चलने वाली इंटरनेट रेडियो साइट TogiNet रेडियो, टॉक रेडियो पर केंद्रित एक साइट पर फ़ीचर किया गया था.\n",
            "इसे तेज़ी से प्राप्त करने का एकमात्र तरीका इसे चेक किए गए सामान के रूप में भेजना था। एयरलाइन के नियम उन्हें बिना यात्री के सामान भेजने की अनुमति नहीं देंगे, और यहीं पर आप काम आएँगे।\n"
          ]
        }
      ]
    },
    {
      "cell_type": "code",
      "source": [
        "Sourabh Deoghare4:32 PM\n",
        "tup = []\n",
        "for l1, l2, l3 in zip(lines1, lines2, lines3):\n",
        "    tup.append((l1, l2, l3))\n",
        "random.shuffle(tup)\n",
        "Sourabh Deoghare4:36 PM\n",
        "with open('sample.hi', 'w') as f1, open('sample.zhs', 'w') as f2, open('sample.zht', 'w') as f3:\n",
        "    for l1, l2, l3 in tup:\n",
        "        f1.write(str(l1).strip() + '\\n')\n",
        "        f2.write(str(l2).strip() + '\\n')\n",
        "        f3.write(str(l3).strip() + '\\n')\n",
        "with open('sample.hi', 'w') as f1, open('sample.zhs', 'w') as f2, open('sample.zht', 'w') as f3:\n",
        "    for l1, l2, l3 in tup[100]:\n",
        "        f1.write(str(l1).strip() + '\\n')\n",
        "        f2.write(str(l2).strip() + '\\n')\n",
        "        f3.write(str(l3).strip() + '\\n')\n",
        "with open('sample.hi', 'w') as f1, open('sample.zhs', 'w') as f2, open('sample.zht', 'w') as f3:\n",
        "    for l1, l2, l3 in tup[:100]:\n",
        "        f1.write(str(l1).strip() + '\\n')\n",
        "        f2.write(str(l2).strip() + '\\n')\n",
        "        f3.write(str(l3).strip() + '\\n')\n",
        "Sourabh Deoghare4:41 PM\n",
        "with open('hin_Deva.devtest', 'r) as f1, open('zho_Hans.devtest', 'r') as f2, open('zho_Hant.devtest', 'r') as f3:\n",
        "    lines1 = f1.readlines()\n",
        "    lines1 = f1.readlines()\n",
        "with open('hin_Deva.devtest', 'r) as f1, open('zho_Hans.devtest', 'r') as f2, open('zho_Hant.devtest', 'r') as f3:\n",
        "    lines1 = f1.readlines()\n",
        "    lines2 = f2.readlines()\n",
        "    lines3 = f3.readlines()\n",
        "Sourabh Deoghare4:53 PM\n",
        "deogharesourabh@gmail.com\n",
        "jid-nspm-anr"
      ],
      "metadata": {
        "id": "PiTYrJmZF6eU"
      },
      "execution_count": null,
      "outputs": []
    },
    {
      "cell_type": "code",
      "source": [
        "with open('hin_Deva.devtest', 'r') as f1, open('zho_Hans.devtest', 'r') as f2, open('zho_Hant.devtest', 'r') as f3:\n",
        "    lines1 = f1.readlines()\n",
        "    lines2 = f2.readlines()\n",
        "    lines3 = f3.readlines()\n",
        "tup = []\n",
        "for l1, l2, l3 in zip(lines1, lines2, lines3):\n",
        "    tup.append((l1, l2, l3))\n",
        "random.shuffle(tup)\n",
        "\n",
        "with open('sample.hi', 'w') as f1, open('sample.zhs', 'w') as f2, open('sample.zht', 'w') as f3:\n",
        "    for l1, l2, l3 in tup[:100]:\n",
        "        f1.write(str(l1).strip() + '\\n')\n",
        "        f2.write(str(l2).strip() + '\\n')\n",
        "        f3.write(str(l3).strip() + '\\n')"
      ],
      "metadata": {
        "id": "tETq2pgGDH_A"
      },
      "execution_count": 44,
      "outputs": []
    },
    {
      "cell_type": "code",
      "source": [
        "tup = []\n",
        "for l1, l2, l3 in zip(lines1, lines2, lines3):\n",
        "    tup.append((l1, l2, l3))\n",
        "random.shuffle(tup)\n",
        "\n",
        "with open(os.listdir()[1], 'w') as f1, open('sample.zhs', 'w') as f2, open('sample.zht', 'w') as f3:\n",
        "    for l1, l2, l3 in tup[:100]:\n",
        "        f1.write(str(l1).strip() + '\\n')\n",
        "        f2.write(str(l2).strip() + '\\n')\n",
        "        f3.write(str(l3).strip() + '\\n')"
      ],
      "metadata": {
        "id": "ZceQ5tF_B9Kx"
      },
      "execution_count": null,
      "outputs": []
    },
    {
      "cell_type": "code",
      "source": [
        "import random\n",
        "import os\n",
        "# Open the file in read mode\n",
        "china1_file = open(os.listdir()[1], \"r\")\n",
        "\n",
        "# Specify the number of lines to select\n",
        "num_lines = 5\n",
        "\n",
        "# Read all lines from the file\n",
        "china1_lines = china1_file.readlines()\n",
        "\n",
        "# Randomly select and print the specified number of lines\n",
        "selected_lines = random.sample(china1_lines, num_lines)\n",
        "for line in selected_lines:\n",
        "    print(line.strip())\n",
        "\n",
        "# Close the file\n",
        "china1_file.close()\n"
      ],
      "metadata": {
        "colab": {
          "base_uri": "https://localhost:8080/"
        },
        "id": "S51Ru_I7wvyd",
        "outputId": "4405a5ea-1fbd-44b4-bdba-b549fcc45a4c"
      },
      "execution_count": 31,
      "outputs": [
        {
          "output_type": "stream",
          "name": "stdout",
          "text": [
            "儘管有一種實驗性的疫苗顯示能降低伊波拉病毒的致死率，但到目前為止，沒有藥物明確證實適合治療已受感染的人。\n",
            "巽達班斯森林已列入聯合國教科文組織世界遺產。位於印度境內的區域稱為巽達班斯國家公園。\n",
            "舉例來說，北卡羅萊納州班奈特學校的學生，每年都會為他們的北州首府參訪之旅設計一個網站，這個網站每年都會改版，但舊版本仍會保留在線上，當作剪貼簿來使。\n",
            "熨燙潮濕的衣服有助於乾燥衣服。許多飯店即使客房內未提供熨斗和燙衣板，也可以跟飯店借用。\n",
            "歷史學家曾經批評，過去聯邦調查局的政策是將資源集中在容易解決的案件，尤其是汽車失竊案，目的是要提高該機構的成功率。\n"
          ]
        }
      ]
    },
    {
      "cell_type": "code",
      "source": [
        "import random\n",
        "import os\n",
        "# Open the file in read mode\n",
        "china2_file = open(os.listdir()[2], \"r\")\n",
        "\n",
        "# Specify the number of lines to select\n",
        "num_lines = 5\n",
        "\n",
        "# Read all lines from the file\n",
        "china2_lines = china2_file.readlines()\n",
        "\n",
        "# Randomly select and print the specified number of lines\n",
        "selected_lines = random.sample(china2_lines, num_lines)\n",
        "for line in selected_lines:\n",
        "    print(line.strip())\n",
        "\n",
        "# Close the file\n",
        "china2_file.close()"
      ],
      "metadata": {
        "colab": {
          "base_uri": "https://localhost:8080/"
        },
        "id": "uOuC9RA8xpZP",
        "outputId": "b2a6445b-a5c2-450f-f291-8b5ee3c1645f"
      },
      "execution_count": 33,
      "outputs": [
        {
          "output_type": "stream",
          "name": "stdout",
          "text": [
            "如今，唯一不能向后折叠翅膀的昆虫是蜻蜓和蜉蝣。\n",
            "这在英国的其他地方是常见做法，但苏格兰的司法制度有所不同，法院认为公布照片可能会造成潜在的危害。\n",
            "该地区也是各类动物和鸟类的家园。\n",
            "副总警监埃利亚（D K Arya）称：“我们逮捕了 5 名强奸这位瑞士妇女的人，并找到了她的手机和笔记本电脑。”\n",
            "科学家表示，这种动物的羽毛顶部为栗棕色，底部为浅色或胡萝卜色。\n"
          ]
        }
      ]
    },
    {
      "cell_type": "code",
      "source": [
        "file = open(os.listdir()[1], \"r\")\n",
        "\n",
        "# Specify the number of lines to read\n",
        "num_lines = 50\n",
        "\n",
        "# Read and print the specified number of lines\n",
        "for i in range(num_lines):\n",
        "    line = file.readline()\n",
        "    if line:\n",
        "        print(line.strip())\n",
        "\n",
        "# Close the file\n",
        "file.close()"
      ],
      "metadata": {
        "colab": {
          "base_uri": "https://localhost:8080/"
        },
        "id": "HqiZhHRTxqeu",
        "outputId": "b2c6fdb7-c976-4ede-b93d-022f2dfb28e5"
      },
      "execution_count": 25,
      "outputs": [
        {
          "output_type": "stream",
          "name": "stdout",
          "text": [
            "「我們有 4 個月大曾經罹患糖尿病老鼠現在沒有糖尿病了」他補充道。\n",
            "位於新斯科舍省哈利法克斯的戴爾豪斯大學醫學教授、加拿大糖尿病協會臨床及科學部門主席埃胡德·烏爾 (Ehud Ur) 醫師警告說，此研究仍在初期階段。\n",
            "如同其他專家，他對糖尿病是否可以治癒存疑，並指出這些發現與已經患有第一型糖尿病的人無關。\n",
            "瑞典學院諾貝爾文學委員會常任秘書莎拉．戴紐斯，週一在瑞典的瑞典廣播電台節目中公開表示，委員會因為無法直接與巴布．狄倫聯繫領取 2016 年諾貝爾文學獎事宜，已放棄嘗試。\n",
            "戴紐斯說：「現在我們什麼都不做。我打過電話、也寄了電子郵件給他最親近的合作夥伴，也收到很友善的回覆。就現在來說，那樣的確就夠了。」\n",
            "在此之前，鈴響公司的執行長傑米·西米諾夫曾說過他之所以創立該公司，是因為他在自家車庫改裝的店面聽不到前門的按鈴聲。\n",
            "他說他做了一個無線網路門鈴。\n",
            "西米諾夫表示當他 2013 年在《創業鯊魚幫》節目上露面後，銷售額提高了，當時節目評審拒絕投資這個新創公司。\n",
            "在 2017 年末，西米諾夫出現在 QVC 購物頻道 上。\n",
            "Ring 也與保安產業的競爭對手 ADT 公司達成訴訟和解。\n",
            "儘管有一種實驗性的疫苗顯示能降低伊波拉病毒的致死率，但到目前為止，沒有藥物明確證實適合治療已受感染的人。\n",
            "其中一種抗體雞尾酒 ZMapp，起初很可望在實務上帶來好消息，但正式研究指出，它的效果並未達到預防死亡的預期目標。\n",
            "ZMapp 在 PALM 試驗中作為對照組，代表科學家將其視為基準，與其他三種治療方法相比較。\n",
            "美國體操協會為美國奧委會的來信背書，並認同奧林匹克大家庭絕對有需要為我們所有的運動員推動安全的環境。\n",
            "我們同意美國奧委會的聲明，也就是我們的選手、團隊和其運動項目的利益，會因為我們組織內具有意義的改革而改善，而非取消資格。\n",
            "美國體操協會支持一項獨立調查，這項調查可能有助於釐清，在賴瑞·納薩爾事件中倖存下來的人提起勇氣描述的虐待內容，長期以來無人發現的原因，且會引入任何必需且妥當的調整。\n",
            "美國體操協會和美國奧委會擁有相同的目標，也就是讓體操和其他運動儘可能安全，讓運動員得以在安全、正向和擁有自主權的環境中，追尋自己的夢想。\n",
            "整個 1960 年代，布里辛斯基擔任過約翰．甘迺迪的顧問及林登．詹森的幕僚。\n",
            "1976 年的選舉中，他對卡特的外交政策提出建議，其後在 1977 至 1981 年間，接替亨利·季辛吉擔任國家安全顧問 (NSA)。\n",
            "作為美國國家安全局的一員，他在外交上協助卡特處理世界事務，例如 1978 年的大衛營協議；1970 年代後期為美中關係正常化出謀劃策；1979 年引發伊朗人質危機的伊朗革命；和 1979 年蘇聯入侵阿富汗。\n",
            "這部電影由雷恩·葛斯林和艾瑪·史東主演，並獲得所有主要獎項的提名。\n",
            "雷恩‧葛斯林和艾瑪‧史東分別獲提名為最佳男主角和最佳女主角。\n",
            "其他提名包括最佳影片、最佳導演、最佳攝影、最佳服裝設計、最佳剪輯、最佳原創音樂、最佳製作設計、最佳音效剪輯、最佳混音及最佳原著劇本獎。\n",
            "電影中的兩首歌曲〈Audition (The Fools Who Dream)〉和〈 City of Stars〉提名最佳原創歌曲。獅門影視總共提名 26 個獎項，傲視其他電影工作室。\n",
            "星期日傍晚，美國總統唐納‧川普透過新聞秘書發表聲明，宣布美國軍隊將撤離敘利亞。\n",
            "川普與土耳其總統艾爾多安通過電話後便發表這則聲明。\n",
            "該聲明表示，土耳其也將負責看守遭囚禁的伊斯蘭國 (ISIS) 成員，歐洲眾國拒將那些成員遣送回國。\n",
            "這不僅證明了一個廣泛流傳的理論，認為至少某些恐龍有羽毛，也提供了大部分化石無法提供的細節，例如顏色和立體組成方式。\n",
            "科學家說這種動物的羽毛外層是栗棕色，內層是泛白的顏色或胡蘿蔔色。\n",
            "該發現也為鳥類羽毛的進化提供深入的見解。\n",
            "因為恐龍的羽毛缺乏發展健全的軸，所謂羽軸，但確實存在其他羽毛特性，即羽枝與羽小枝，因此研究者推論，這些其他特性後來很可能就進化成了羽軸。\n",
            "這些羽毛的結構顯示它們不是用來飛行而是用來調節溫度或展示的。研究人員表示，即使這是年輕恐龍的尾巴，該樣本也顯示其為成熟羽毛而非幼雛絨毛。\n",
            "研究人員認為，儘管這是一頭年輕恐龍的尾巴，但樣本中的羽毛已完全發育，而不是年幼動物的新生毛。\n",
            "昨天早上在土耳其加濟安泰普警察總部引爆的汽車炸彈，造成兩名員警死亡以及超過二十位民眾受傷。\n",
            "省長辦公室表示傷患中有十九名是警察。\n",
            "警方說，他們懷疑這起攻擊是由達伊沙（伊拉克和黎凡特伊斯蘭國）的好戰嫌疑犯所為。\n",
            "他們發現太陽的運作與其他恆星的基本原理相同：系統中所有恆星的活動均受其光度、自轉所推動，就是這麼簡單。\n",
            "恆星的羅士比數跟電漿的流動有關，必須以光度和自轉來判斷。\n",
            "羅士比數越小，星體在磁場逆轉方面就越不活躍。\n",
            "在他的旅程中，岩崎圭一碰過不少麻煩。\n",
            "他被海盜搶劫、在西藏被一隻患有狂犬病的狗攻擊、在尼泊爾逃離了一場婚姻，並在印度被逮捕。\n",
            "802.11n 標準可在 2.4Ghz 和 5.0Ghz 頻率上運作。\n",
            "如果基地台擁有雙射頻，這將使其向下兼容於 802.11a、802.11b 和 802.11g。\n",
            "802.11n 的速度比過去的設備都要快非常多，理論上最高傳輸量可達每秒 600Mbit。\n",
            "已婚且育有兩名成年子女的杜瓦爾，並沒有給與故事有關的米勒留下深刻的印象。\n",
            "當米勒被要求發表評論時，他表示：「麥克在聽證會上說了很多……我那時正在做準備，所以其實沒聽到他說了什麼。」\n",
            "胡錦濤表示：「我們將致力於 2020 年以前，大幅降低 2005 年的單位國內生產毛額每個單位的溫室氣體排放量水準。」\n",
            "他沒有設定減少的數量，只聲稱將依據中國的經濟產出進行削減。\n",
            "胡錦濤鼓勵發展中的國家「避免先汙染、後清理的老路」。\n",
            "他補充道：「然而，不應該要求他們承擔超出其發展階段、責任和能力的義務。」\n"
          ]
        }
      ]
    },
    {
      "cell_type": "code",
      "source": [],
      "metadata": {
        "id": "vatsxPrq5-R8"
      },
      "execution_count": null,
      "outputs": []
    }
  ]
}